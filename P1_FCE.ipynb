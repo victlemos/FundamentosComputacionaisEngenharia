{
  "nbformat": 4,
  "nbformat_minor": 0,
  "metadata": {
    "colab": {
      "provenance": [],
      "authorship_tag": "ABX9TyPhsjw5axx9h2MBeJ/rcfkW",
      "include_colab_link": true
    },
    "kernelspec": {
      "name": "python3",
      "display_name": "Python 3"
    },
    "language_info": {
      "name": "python"
    }
  },
  "cells": [
    {
      "cell_type": "markdown",
      "metadata": {
        "id": "view-in-github",
        "colab_type": "text"
      },
      "source": [
        "<a href=\"https://colab.research.google.com/github/victlemos/FundamentosComputacionaisEngenharia/blob/main/P1_FCE.ipynb\" target=\"_parent\"><img src=\"https://colab.research.google.com/assets/colab-badge.svg\" alt=\"Open In Colab\"/></a>"
      ]
    },
    {
      "cell_type": "markdown",
      "source": [
        "#Questão 1\n",
        "\n",
        "José Manzano e Jaya de Oliveira, descrevem em seu livro “Algoritmos”, que algoritmo pode ser entendido como regras formais, sequenciais e bem definidas a partir de um entendimento lógico de um problema a ser resolvido por um programador, com o objetivo de transformá-lo em um programa que seja possível de ser tratado e executado por um computador, em que dados de entrada são transformados em dados de saída.\n",
        "\n",
        "Na engenharia química, existem diversos problemas que precisam ser abordados por computadores, pois é necessário a realização de cálculos de projetos ou recorrer a algorítmos numéricos. São utilizados em cálculo de processos, modelagem e simulação, controle e otimização, análise de dados e estimação de parâmetros. Como exemplo, o desenvolvimento de modelos e simulações computacionais que aumentam a eficiência do processo e a integração de sistemas de controle para monitorar, ajustar e automatizar operações industriais.\n"
      ],
      "metadata": {
        "id": "uMRNwC67wHNj"
      }
    },
    {
      "cell_type": "markdown",
      "source": [
        "#Questão 2\n",
        "##(a)\n",
        "A linguagem compilada, converte todo o código de uma vez para gerar um arquivo executável, enquanto a linguagem interpretada traduz linha por linha durante a execução do programa, sem gerar um arquivo executável. O código compilado é rápido em sua execução, no entanto os erros só são identificados no final, provocando demora no processo de correção. Já o código interpretado, facilita a correção de erros, pois o código é executado enquanto é interpretado, no entanto, pode ser um processo mais lento, se comparado ao código compilado, pois o código é traduzido em tempo real.\n",
        "\n",
        "\n",
        "##(b)\n",
        "A programação imperativa foca no passo a passo da execução, definindo comandos para a máquina executar, já a programação procedural, possibilita o desenvolvimento da programação de forma estruturada, permitindo a construção de funções ou módulos de procedimentos que estejam interligados, permitindo que o código seja reutilizado. Ambas as linguagens possuem alta eficiência, no entanto, a linguagem imperativa é mais extensa, com um código sequencial, tornando-o mais difícil de realizar correções e alterações, pois qualquer alteração pode mudar a execução do programa por completo. Na linguagem procedural, por se tratar de um código modularizado, é mais organizada, possui funções reutilizáveis, facilita a leitura e possui facilidade de manutenção, visto que alterações possuem menor impacto na execução do programa como um todo.\n"
      ],
      "metadata": {
        "id": "4Dw-CykvxAPz"
      }
    },
    {
      "cell_type": "markdown",
      "source": [
        "#Questão 3\n",
        "\n",
        "##(a)\n",
        "O primeiro princípio, explícito é melhor que implícito, refere-se sobre a clareza no código, quais funções estão sendo utilizadas e quais variáveis estão sendo lidas para executar o código. Já o segundo princípio, simples é melhor que complexo, diz respeito à facilidade de uso e entendimento do código. Um código simples e modular é melhor de ser utilizado à um código complexo. Problemas de engenharia já tendem a ser complexos por si só, um código simples facilita a correção de erros, realização de testes e leitura por outros operadores. Por fim, o princípio legibilidade importa, destaca que o código deve ser escrito de maneira clara, e compreensível, para reduzir erros, permitindo que qualquer operador faça sua leitura e interprete-o, além disso contribui em sua manutenção a longo prazo, possibilitando sua reutilzação ou revisão.\n",
        "\n",
        "\n",
        "##(b)\n",
        "Ao realizar um código, deve-se sempre ser claro com a escrita e o objetivo do programa. Ao definir uma função, utilizar o nome da função que está sendo definida, permitindo sua identificação de acordo com sua função, não apenas uma letra, como por exemplo, def f(), deve-se utilizar def velocidade(), ou alguma outra abreviação que permite identificar que a função que está sendo descrita no código. A função f não nos permite identificar a sua finalidade, diferente da função velocidade, que está clara no seu objetivo de calcular a velocidade."
      ],
      "metadata": {
        "id": "UxMzh5KAxx_c"
      }
    },
    {
      "cell_type": "markdown",
      "source": [
        "#Questão 04\n",
        "\n",
        "##(a) Pseudocodigo\n",
        "\n",
        "Início\n",
        "\n",
        "Gerar uma lista de pressão com 10 valores (como o intervalo é de 20 minutos, com medidas de 2 em 2 minutos, então teremos 10 medidas de pressão)\n",
        "\n",
        "Variável operação\n",
        "Variável alarme\n",
        "\n",
        "Para cada vaor de p_medida em pressão, faça:\n",
        "  Operação = Operação + 1\n",
        "  Pressão de operação = p_medida\n",
        "\n",
        "  Se p_medida >= 2 e p_medida <=5 então\n",
        "    pressão dentro do intervalo\n",
        "    alarme = alarme + 0\n",
        "  \n",
        "  Senão\n",
        "    pressão fora do intervalo\n",
        "    alarme = alarme + 1\n",
        "\n",
        "  Para (Se)\n",
        "\n",
        "  Se alarme < 3 então\n",
        "    imprimir número de operação, pressão medida, quantidade de alarme, Sistema operando\n",
        "  \n",
        "  Senão\n",
        "    imprimir número de operação, pressão medida, quantidade de alarme, Sistema interrompido\n",
        "\n",
        "    sair do laço\n",
        "\n",
        "  Para (Se)\n",
        "\n",
        "Para (Para)\n",
        "\n",
        "FIM\n"
      ],
      "metadata": {
        "id": "ftQW8tvVy0mY"
      }
    },
    {
      "cell_type": "markdown",
      "source": [
        "##(b) Código"
      ],
      "metadata": {
        "id": "xiuEiy7J2H_D"
      }
    },
    {
      "cell_type": "code",
      "source": [
        "#importar as bibliotecas\n",
        "import numpy as np\n",
        "import random as rd"
      ],
      "metadata": {
        "id": "PC75uc6va-fL"
      },
      "execution_count": null,
      "outputs": []
    },
    {
      "cell_type": "code",
      "source": [
        "#definir as variáveis\n",
        "pressao = (np.random.uniform(1, 10, size=10))\n",
        "operacao = 0\n",
        "alarme = 0"
      ],
      "metadata": {
        "id": "JEMnayhCljLF"
      },
      "execution_count": null,
      "outputs": []
    },
    {
      "cell_type": "code",
      "source": [
        "#rodar a operação até o critério de parada\n",
        "for p_medida in pressao:\n",
        "    if 2 <= p_medida <= 5:\n",
        "        operacao = operacao + 1 #número de operações rodadas.\n",
        "        pressao_operacao = p_medida #pressão lida através do vetor aleatório\n",
        "        alarme = alarme + 0 #operação de alarme, mas sem somar e alterar a quantidade final.\n",
        "\n",
        "        if alarme < 3:\n",
        "            print(f'Operação: {operacao}, Pressão {pressao_operacao} bar, Alarme ativado: {alarme}/3, Sistema: operando') #imprimir o número da operação, pressão e a quantidade de alarme acionados\n",
        "        else:\n",
        "            print(f'Operação: {operacao}, Pressão {pressao_operacao} bar, Alarme ativado: {alarme}/3, Sistema: interrompido') #imprimir o número da operação, pressão e a quantidade de alarme acionados\n",
        "            break\n",
        "    else:\n",
        "        operacao = operacao + 1 #número de operações rodadas.\n",
        "        pressao_operacao = p_medida #pressão lida através do vetor aleatório\n",
        "        alarme = alarme + 1 #operação de alarme, mas sem somar e alterar a quantidade final.\n",
        "\n",
        "        if alarme < 3:\n",
        "            print(f'Operação: {operacao}, Pressão {pressao_operacao} bar, Alarme ativado: {alarme}/3, Sistema: operando') #imprimir o número da operação, pressão e a quantidade de alarme acionados\n",
        "        else:\n",
        "            print(f'Operação: {operacao}, Pressão {pressao_operacao} bar, Alarme ativado: {alarme}/3, Sistema: interrompido') #imprimir o número da operação, pressão e a quantidade de alarme acionados\n",
        "            break"
      ],
      "metadata": {
        "colab": {
          "base_uri": "https://localhost:8080/"
        },
        "id": "pYG23WNOfZDy",
        "outputId": "93c5461d-c57c-4672-f467-f727fdc30e1a"
      },
      "execution_count": null,
      "outputs": [
        {
          "output_type": "stream",
          "name": "stdout",
          "text": [
            "Operação: 1, Pressão 4.884039457530417 bar, Alarme ativado: 0/3, Sistema: operando\n",
            "Operação: 2, Pressão 4.545574796949291 bar, Alarme ativado: 0/3, Sistema: operando\n",
            "Operação: 3, Pressão 6.006963401903675 bar, Alarme ativado: 1/3, Sistema: operando\n",
            "Operação: 4, Pressão 5.073449751414841 bar, Alarme ativado: 2/3, Sistema: operando\n",
            "Operação: 5, Pressão 8.239686208552241 bar, Alarme ativado: 3/3, Sistema: interrompido\n"
          ]
        }
      ]
    }
  ]
}